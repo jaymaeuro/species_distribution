{
 "cells": [
  {
   "cell_type": "code",
   "execution_count": 20,
   "metadata": {
    "collapsed": true
   },
   "outputs": [],
   "source": [
    "from pygbif import occurrences as occ"
   ]
  },
  {
   "cell_type": "code",
   "execution_count": 25,
   "outputs": [
    {
     "ename": "ValueError",
     "evalue": "GBIF_PWD not supplied and no entry in environmental\n                           variables",
     "output_type": "error",
     "traceback": [
      "\u001B[1;31m---------------------------------------------------------------------------\u001B[0m",
      "\u001B[1;31mValueError\u001B[0m                                Traceback (most recent call last)",
      "Input \u001B[1;32mIn [25]\u001B[0m, in \u001B[0;36m<cell line: 1>\u001B[1;34m()\u001B[0m\n\u001B[1;32m----> 1\u001B[0m \u001B[43mocc\u001B[49m\u001B[38;5;241;43m.\u001B[39;49m\u001B[43mdownload_list\u001B[49m\u001B[43m(\u001B[49m\u001B[43muser\u001B[49m\u001B[38;5;241;43m=\u001B[39;49m\u001B[38;5;124;43m\"\u001B[39;49m\u001B[38;5;124;43mjaymaeuro\u001B[39;49m\u001B[38;5;124;43m\"\u001B[39;49m\u001B[43m,\u001B[49m\u001B[43m \u001B[49m\u001B[43mlimit\u001B[49m\u001B[38;5;241;43m=\u001B[39;49m\u001B[38;5;241;43m100\u001B[39;49m\u001B[43m)\u001B[49m\n",
      "File \u001B[1;32mc:\\users\\jayma\\onedrive\\documents\\python_scripts\\species_distribution\\venv\\lib\\site-packages\\pygbif\\occurrences\\download.py:406\u001B[0m, in \u001B[0;36mdownload_list\u001B[1;34m(user, pwd, limit, offset)\u001B[0m\n\u001B[0;32m    389\u001B[0m \u001B[38;5;124;03m\"\"\"\u001B[39;00m\n\u001B[0;32m    390\u001B[0m \u001B[38;5;124;03mLists the downloads created by a user.\u001B[39;00m\n\u001B[0;32m    391\u001B[0m \n\u001B[1;32m   (...)\u001B[0m\n\u001B[0;32m    402\u001B[0m \u001B[38;5;124;03m  occ.download_list(user = \"sckott\", offset = 21)\u001B[39;00m\n\u001B[0;32m    403\u001B[0m \u001B[38;5;124;03m\"\"\"\u001B[39;00m\n\u001B[0;32m    405\u001B[0m user \u001B[38;5;241m=\u001B[39m _check_environ(\u001B[38;5;124m\"\u001B[39m\u001B[38;5;124mGBIF_USER\u001B[39m\u001B[38;5;124m\"\u001B[39m, user)\n\u001B[1;32m--> 406\u001B[0m pwd \u001B[38;5;241m=\u001B[39m \u001B[43m_check_environ\u001B[49m\u001B[43m(\u001B[49m\u001B[38;5;124;43m\"\u001B[39;49m\u001B[38;5;124;43mGBIF_PWD\u001B[39;49m\u001B[38;5;124;43m\"\u001B[39;49m\u001B[43m,\u001B[49m\u001B[43m \u001B[49m\u001B[43mpwd\u001B[49m\u001B[43m)\u001B[49m\n\u001B[0;32m    408\u001B[0m url \u001B[38;5;241m=\u001B[39m \u001B[38;5;124m\"\u001B[39m\u001B[38;5;124mhttp://api.gbif.org/v1/occurrence/download/user/\u001B[39m\u001B[38;5;124m\"\u001B[39m \u001B[38;5;241m+\u001B[39m user\n\u001B[0;32m    409\u001B[0m args \u001B[38;5;241m=\u001B[39m {\u001B[38;5;124m\"\u001B[39m\u001B[38;5;124mlimit\u001B[39m\u001B[38;5;124m\"\u001B[39m: limit, \u001B[38;5;124m\"\u001B[39m\u001B[38;5;124moffset\u001B[39m\u001B[38;5;124m\"\u001B[39m: offset}\n",
      "File \u001B[1;32mc:\\users\\jayma\\onedrive\\documents\\python_scripts\\species_distribution\\venv\\lib\\site-packages\\pygbif\\occurrences\\download.py:37\u001B[0m, in \u001B[0;36m_check_environ\u001B[1;34m(variable, value)\u001B[0m\n\u001B[0;32m     35\u001B[0m value \u001B[38;5;241m=\u001B[39m os\u001B[38;5;241m.\u001B[39menviron\u001B[38;5;241m.\u001B[39mget(variable)\n\u001B[0;32m     36\u001B[0m \u001B[38;5;28;01mif\u001B[39;00m is_none(value):\n\u001B[1;32m---> 37\u001B[0m     \u001B[43mstop\u001B[49m\u001B[43m(\u001B[49m\n\u001B[0;32m     38\u001B[0m \u001B[43m        \u001B[49m\u001B[38;5;124;43m\"\u001B[39;49m\u001B[38;5;124;43m\"\u001B[39;49m\u001B[38;5;241;43m.\u001B[39;49m\u001B[43mjoin\u001B[49m\u001B[43m(\u001B[49m\n\u001B[0;32m     39\u001B[0m \u001B[43m            \u001B[49m\u001B[43m[\u001B[49m\n\u001B[0;32m     40\u001B[0m \u001B[43m                \u001B[49m\u001B[43mvariable\u001B[49m\u001B[43m,\u001B[49m\n\u001B[0;32m     41\u001B[0m \u001B[43m                \u001B[49m\u001B[38;5;124;43;03m\"\"\" not supplied and no entry in environmental\u001B[39;49;00m\n\u001B[0;32m     42\u001B[0m \u001B[38;5;124;43;03m                   variables\"\"\"\u001B[39;49;00m\u001B[43m,\u001B[49m\n\u001B[0;32m     43\u001B[0m \u001B[43m            \u001B[49m\u001B[43m]\u001B[49m\n\u001B[0;32m     44\u001B[0m \u001B[43m        \u001B[49m\u001B[43m)\u001B[49m\n\u001B[0;32m     45\u001B[0m \u001B[43m    \u001B[49m\u001B[43m)\u001B[49m\n\u001B[0;32m     46\u001B[0m \u001B[38;5;28;01melse\u001B[39;00m:\n\u001B[0;32m     47\u001B[0m     \u001B[38;5;28;01mreturn\u001B[39;00m value\n",
      "File \u001B[1;32mc:\\users\\jayma\\onedrive\\documents\\python_scripts\\species_distribution\\venv\\lib\\site-packages\\pygbif\\gbifutils.py:82\u001B[0m, in \u001B[0;36mstop\u001B[1;34m(x)\u001B[0m\n\u001B[0;32m     81\u001B[0m \u001B[38;5;28;01mdef\u001B[39;00m \u001B[38;5;21mstop\u001B[39m(x):\n\u001B[1;32m---> 82\u001B[0m     \u001B[38;5;28;01mraise\u001B[39;00m \u001B[38;5;167;01mValueError\u001B[39;00m(x)\n",
      "\u001B[1;31mValueError\u001B[0m: GBIF_PWD not supplied and no entry in environmental\n                           variables"
     ]
    }
   ],
   "source": [
    "occ.download_list(user=\"jaymaeuro\", limit=100)"
   ],
   "metadata": {
    "collapsed": false,
    "pycharm": {
     "name": "#%%\n"
    }
   }
  },
  {
   "cell_type": "code",
   "execution_count": null,
   "outputs": [],
   "source": [],
   "metadata": {
    "collapsed": false,
    "pycharm": {
     "name": "#%%\n"
    }
   }
  }
 ],
 "metadata": {
  "kernelspec": {
   "display_name": "Python 3",
   "language": "python",
   "name": "python3"
  },
  "language_info": {
   "codemirror_mode": {
    "name": "ipython",
    "version": 2
   },
   "file_extension": ".py",
   "mimetype": "text/x-python",
   "name": "python",
   "nbconvert_exporter": "python",
   "pygments_lexer": "ipython2",
   "version": "2.7.6"
  }
 },
 "nbformat": 4,
 "nbformat_minor": 0
}